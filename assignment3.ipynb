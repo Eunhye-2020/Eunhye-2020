{
 "cells": [
  {
   "cell_type": "code",
   "execution_count": 2,
   "metadata": {},
   "outputs": [],
   "source": [
    "import numpy as np\n",
    "import matplotlib.pyplot as plt\n",
    "from sklearn.linear_model import LinearRegression\n",
    "import pandas as pd\n",
    "from scipy.stats import pearsonr\n",
    "%matplotlib inline"
   ]
  },
  {
   "cell_type": "code",
   "execution_count": 20,
   "metadata": {},
   "outputs": [
    {
     "name": "stdout",
     "output_type": "stream",
     "text": [
      "[[30]\n",
      " [40]\n",
      " [40]\n",
      " [20]\n",
      " [12]\n",
      " [31]\n",
      " [10]]\n",
      "[160 160 170  50 110 160 100]\n"
     ]
    }
   ],
   "source": [
    "x=np.array([30, 40, 40, 20, 12, 31, 10]).reshape((-1,1))\n",
    "y=np.array([160, 160, 170, 50, 110, 160, 100])\n",
    "print(x)\n",
    "print(y)"
   ]
  },
  {
   "cell_type": "code",
   "execution_count": 46,
   "metadata": {},
   "outputs": [
    {
     "name": "stdout",
     "output_type": "stream",
     "text": [
      "Pearson correlation:0.749\n"
     ]
    }
   ],
   "source": [
    "corr, _ = pearsonr(x.reshape(-1),y)\n",
    "print(\"Pearson correlation:%.3f\" % corr)"
   ]
  },
  {
   "cell_type": "code",
   "execution_count": null,
   "metadata": {},
   "outputs": [],
   "source": []
  },
  {
   "cell_type": "code",
   "execution_count": 47,
   "metadata": {},
   "outputs": [],
   "source": [
    "model = LinearRegression().fit(x,y)"
   ]
  },
  {
   "cell_type": "code",
   "execution_count": 48,
   "metadata": {},
   "outputs": [
    {
     "name": "stdout",
     "output_type": "stream",
     "text": [
      "coefficient of determination: 0.5610805150480918\n"
     ]
    }
   ],
   "source": [
    "r_sq=model.score(x, y)\n",
    "print('coefficient of determination:',r_sq)"
   ]
  },
  {
   "cell_type": "code",
   "execution_count": 49,
   "metadata": {},
   "outputs": [
    {
     "name": "stdout",
     "output_type": "stream",
     "text": [
      "beta0 = 59.30964939497363\n",
      "beta1=  [2.70400248]\n"
     ]
    }
   ],
   "source": [
    "print('beta0 =', model.intercept_)\n",
    "print('beta1= ' , model.coef_)"
   ]
  },
  {
   "cell_type": "code",
   "execution_count": 50,
   "metadata": {},
   "outputs": [
    {
     "name": "stdout",
     "output_type": "stream",
     "text": [
      "predicted response:\n",
      "[140.42972386 167.46974868 167.46974868 113.38969904  91.75767918\n",
      " 143.13372634  86.34967422]\n"
     ]
    }
   ],
   "source": [
    "y_pred0=model.intercept_ + model.coef_*x.reshape(-1)\n",
    "print('predicted response:', y_pred0, sep='\\n')"
   ]
  },
  {
   "cell_type": "code",
   "execution_count": 51,
   "metadata": {},
   "outputs": [
    {
     "name": "stdout",
     "output_type": "stream",
     "text": [
      "predicted response:\n",
      "[140.42972386 167.46974868 167.46974868 113.38969904  91.75767918\n",
      " 143.13372634  86.34967422]\n"
     ]
    }
   ],
   "source": [
    "y_pred = model.predict(x)\n",
    "print('predicted response:',y_pred, sep='\\n')"
   ]
  },
  {
   "cell_type": "code",
   "execution_count": 52,
   "metadata": {},
   "outputs": [
    {
     "data": {
      "image/png": "[encoded data removed]",
      "text/plain": [
       "<Figure size 432x288 with 1 Axes>"
      ]
     },
     "metadata": {
      "needs_background": "light"
     },
     "output_type": "display_data"
    }
   ],
   "source": [
    "real= plt.scatter(x,y)\n",
    "plt.plot(x,y_pred0, color='red')\n",
    "\n",
    "pred=plt.scatter(x,y_pred,c='green');\n",
    "\n",
    "plt.legend((real,pred), \n",
    "           ('Real y', 'Predicted y'),\n",
    "           scatterpoints=1,\n",
    "           loc='lower right',\n",
    "           ncol=3,\n",
    "           fontsize=8)\n",
    "plt.show()"
   ]
  },
  {
   "cell_type": "code",
   "execution_count": null,
   "metadata": {},
   "outputs": [],
   "source": []
  }
 ],
 "metadata": {
  "kernelspec": {
   "display_name": "Python 3",
   "language": "python",
   "name": "python3"
  },
  "language_info": {
   "codemirror_mode": {
    "name": "ipython",
    "version": 3
   },
   "file_extension": ".py",
   "mimetype": "text/x-python",
   "name": "python",
   "nbconvert_exporter": "python",
   "pygments_lexer": "ipython3",
   "version": "3.7.3"
  }
 },
 "nbformat": 4,
 "nbformat_minor": 2
}
